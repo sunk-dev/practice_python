{
 "cells": [
  {
   "cell_type": "markdown",
   "id": "6c3e0d2c",
   "metadata": {},
   "source": [
    "# LOOP"
   ]
  },
  {
   "cell_type": "code",
   "execution_count": null,
   "id": "604b1acc",
   "metadata": {
    "ExecuteTime": {
     "end_time": "2023-04-06T03:23:35.924108Z",
     "start_time": "2023-04-06T03:23:35.907156Z"
    }
   },
   "outputs": [],
   "source": [
    "setntence='i love you'\n",
    "reverse_sentence=''\n",
    "for char in setntence:\n",
    "    reverse_sentence=char+reverse_sentence\n",
    "    #왼쪽으로 단어가 더해짐!\n",
    "    print(reverse_sentence)\n",
    "print(reverse_sentence)\n",
    "    "
   ]
  },
  {
   "cell_type": "markdown",
   "id": "eb9ac8c1",
   "metadata": {},
   "source": [
    "## Loop & control lab"
   ]
  },
  {
   "cell_type": "markdown",
   "id": "dc423ace",
   "metadata": {},
   "source": [
    "### variable nested loops(가변적인 중첩 반복문)"
   ]
  },
  {
   "cell_type": "markdown",
   "id": "329a4051",
   "metadata": {},
   "source": [
    "실제 프로그램에서 반복문은 사용자의 입력에 따라 가변적으로 반복되고 하나의 반복이 아닌 중복되어 반복이 일어남"
   ]
  },
  {
   "cell_type": "markdown",
   "id": "48d161e2",
   "metadata": {},
   "source": [
    "#### 연습 숫자찾기 게임"
   ]
  },
  {
   "cell_type": "code",
   "execution_count": null,
   "id": "75e76a15",
   "metadata": {
    "ExecuteTime": {
     "end_time": "2023-05-01T08:14:05.430937Z",
     "start_time": "2023-05-01T08:13:57.085411Z"
    }
   },
   "outputs": [],
   "source": [
    "import random as r\n",
    "def guess_number():\n",
    "    number=r.randint(1,100)\n",
    "    print('숫자를 맞춰 보세요',end='')\n",
    "    while(True):\n",
    "        answer=int(input())\n",
    "        if answer==number:\n",
    "            print(f'정답입니다! 입력한 숫자는{answer}입니다')\n",
    "            return\n",
    "        elif answer>number:\n",
    "            print('숫자가 너무 큽니다')\n",
    "            continue\n",
    "        elif answer<number:\n",
    "            print('숫자가 너무 작습니다')\n",
    "            continue\n",
    "guess_number()           \n",
    "        "
   ]
  },
  {
   "cell_type": "markdown",
   "id": "e491fa33",
   "metadata": {},
   "source": [
    "#### 연습 구구단입력"
   ]
  },
  {
   "cell_type": "markdown",
   "id": "05438151",
   "metadata": {},
   "source": [
    "1-9를 입력받아 구구단을 출력 0을 입력시 종료"
   ]
  },
  {
   "cell_type": "code",
   "execution_count": null,
   "id": "97c8ce29",
   "metadata": {
    "ExecuteTime": {
     "end_time": "2023-05-01T08:17:10.927841Z",
     "start_time": "2023-05-01T08:17:02.888776Z"
    }
   },
   "outputs": [],
   "source": [
    "def gugudan():\n",
    "    \n",
    "    while(True):\n",
    "        dan=int(input('구구단 몇단을 입력할까요?'))\n",
    "        if dan==0:\n",
    "            print('구구단 게임을 종료합니다')\n",
    "            return\n",
    "        else:\n",
    "            print(f'구구단 {dan}을 계산합니다')\n",
    "            for i in range(1,9+1):\n",
    "                print(f'{dan}x{i}={dan*i}')\n",
    "gugudan()"
   ]
  },
  {
   "cell_type": "markdown",
   "id": "459062ce",
   "metadata": {},
   "source": [
    "![nn](image/이차원.png)"
   ]
  },
  {
   "cell_type": "code",
   "execution_count": null,
   "id": "2bdedb3e",
   "metadata": {
    "ExecuteTime": {
     "end_time": "2023-05-01T08:30:27.739562Z",
     "start_time": "2023-05-01T08:30:27.719098Z"
    }
   },
   "outputs": [],
   "source": [
    "person=['a','b','c','d','e']\n",
    "kor=[49,79,20,100,80]\n",
    "math=[43,59,85,30,90]\n",
    "eng=[49,79,48,60,100]\n",
    "mid_term=[person,kor,math,eng]\n",
    "term=[]\n",
    "person_avg=[person,term]\n",
    "for i in range(5): #총 다섯명 평균계산\n",
    "    sum=0\n",
    "    avg=0\n",
    "    for j in range(3):#국수영 3번\n",
    "        sum+=mid_term[j+1][i]\n",
    "    avg=sum/3\n",
    "    term.append(avg)\n",
    "person_avg\n",
    "    "
   ]
  },
  {
   "cell_type": "code",
   "execution_count": null,
   "id": "4c304112",
   "metadata": {
    "ExecuteTime": {
     "end_time": "2023-05-01T08:38:21.892456Z",
     "start_time": "2023-05-01T08:38:21.881485Z"
    }
   },
   "outputs": [],
   "source": [
    "kor=[49,79,20,100,80]\n",
    "math=[43,59,85,30,90]\n",
    "eng=[49,79,48,60,100]\n",
    "mid_term=[kor,math,eng]\n",
    "student_score=[0,0,0,0,0]\n",
    "i=0\n",
    "for subject in mid_term:\n",
    "    for score in subject:\n",
    "        student_score[i]+=score #한과목의 점수를 개별인덱스에 전부 집어넣고 다음 과목으로 이동\n",
    "        i+=1\n",
    "    i=0\n",
    "\n",
    "a,b,c,d,e=student_score #학생별 점수를 언패킹\n",
    "student_avg=[a/3,b/3,c/3,d/3,e/3]\n",
    "print(student_avg)"
   ]
  },
  {
   "cell_type": "markdown",
   "id": "d9111a41",
   "metadata": {},
   "source": [
    "## debugging"
   ]
  },
  {
   "cell_type": "markdown",
   "id": "eba126e6",
   "metadata": {},
   "source": [
    "코드의 오류를 발견하여 수정하는 과정\n",
    "오류의 원인을 알고 해결책 찾기\n",
    "에러메시지 분석해서 문법적, 논리적 에러 찾기"
   ]
  },
  {
   "cell_type": "markdown",
   "id": "0d8e0cca",
   "metadata": {},
   "source": [
    "논리적 에러 - 뜻대로 실행이 안되는 코드 중간중간 프린터 문을 찍어서 확인"
   ]
  },
  {
   "cell_type": "code",
   "execution_count": null,
   "id": "e7446af5",
   "metadata": {},
   "outputs": [],
   "source": []
  }
 ],
 "metadata": {
  "kernelspec": {
   "display_name": "Python 3 (ipykernel)",
   "language": "python",
   "name": "python3"
  },
  "language_info": {
   "codemirror_mode": {
    "name": "ipython",
    "version": 3
   },
   "file_extension": ".py",
   "mimetype": "text/x-python",
   "name": "python",
   "nbconvert_exporter": "python",
   "pygments_lexer": "ipython3",
   "version": "3.9.13"
  },
  "toc": {
   "base_numbering": 1,
   "nav_menu": {},
   "number_sections": true,
   "sideBar": true,
   "skip_h1_title": false,
   "title_cell": "Table of Contents",
   "title_sidebar": "Contents",
   "toc_cell": false,
   "toc_position": {},
   "toc_section_display": true,
   "toc_window_display": false
  },
  "varInspector": {
   "cols": {
    "lenName": 16,
    "lenType": 16,
    "lenVar": 40
   },
   "kernels_config": {
    "python": {
     "delete_cmd_postfix": "",
     "delete_cmd_prefix": "del ",
     "library": "var_list.py",
     "varRefreshCmd": "print(var_dic_list())"
    },
    "r": {
     "delete_cmd_postfix": ") ",
     "delete_cmd_prefix": "rm(",
     "library": "var_list.r",
     "varRefreshCmd": "cat(var_dic_list()) "
    }
   },
   "types_to_exclude": [
    "module",
    "function",
    "builtin_function_or_method",
    "instance",
    "_Feature"
   ],
   "window_display": false
  }
 },
 "nbformat": 4,
 "nbformat_minor": 5
}
